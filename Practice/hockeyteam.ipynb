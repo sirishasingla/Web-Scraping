{
 "cells": [
  {
   "cell_type": "code",
   "execution_count": 1,
   "metadata": {},
   "outputs": [],
   "source": [
    "from bs4 import BeautifulSoup\n",
    "import requests"
   ]
  },
  {
   "cell_type": "code",
   "execution_count": 2,
   "metadata": {},
   "outputs": [],
   "source": [
    "url = 'https://www.scrapethissite.com/pages/forms/?page_num=1'"
   ]
  },
  {
   "cell_type": "code",
   "execution_count": 4,
   "metadata": {},
   "outputs": [],
   "source": [
    "page = requests.get(url)"
   ]
  },
  {
   "cell_type": "code",
   "execution_count": 6,
   "metadata": {},
   "outputs": [],
   "source": [
    "soup = BeautifulSoup(page.text, 'html')"
   ]
  },
  {
   "cell_type": "code",
   "execution_count": 12,
   "metadata": {},
   "outputs": [
    {
     "data": {
      "text/plain": [
       "'Team Name'"
      ]
     },
     "execution_count": 12,
     "metadata": {},
     "output_type": "execute_result"
    }
   ],
   "source": [
    "soup.find('th').text.strip()"
   ]
  },
  {
   "cell_type": "code",
   "execution_count": 17,
   "metadata": {},
   "outputs": [],
   "source": [
    "titles = soup.find_all('th')"
   ]
  },
  {
   "cell_type": "code",
   "execution_count": 19,
   "metadata": {},
   "outputs": [
    {
     "data": {
      "text/plain": [
       "['Team Name',\n",
       " 'Year',\n",
       " 'Wins',\n",
       " 'Losses',\n",
       " 'OT Losses',\n",
       " 'Win %',\n",
       " 'Goals For (GF)',\n",
       " 'Goals Against (GA)',\n",
       " '+ / -']"
      ]
     },
     "execution_count": 19,
     "metadata": {},
     "output_type": "execute_result"
    }
   ],
   "source": [
    "headings = [title.text.strip() for title in titles]\n",
    "headings"
   ]
  },
  {
   "cell_type": "code",
   "execution_count": 20,
   "metadata": {},
   "outputs": [
    {
     "data": {
      "text/html": [
       "<div>\n",
       "<style scoped>\n",
       "    .dataframe tbody tr th:only-of-type {\n",
       "        vertical-align: middle;\n",
       "    }\n",
       "\n",
       "    .dataframe tbody tr th {\n",
       "        vertical-align: top;\n",
       "    }\n",
       "\n",
       "    .dataframe thead th {\n",
       "        text-align: right;\n",
       "    }\n",
       "</style>\n",
       "<table border=\"1\" class=\"dataframe\">\n",
       "  <thead>\n",
       "    <tr style=\"text-align: right;\">\n",
       "      <th></th>\n",
       "      <th>Team Name</th>\n",
       "      <th>Year</th>\n",
       "      <th>Wins</th>\n",
       "      <th>Losses</th>\n",
       "      <th>OT Losses</th>\n",
       "      <th>Win %</th>\n",
       "      <th>Goals For (GF)</th>\n",
       "      <th>Goals Against (GA)</th>\n",
       "      <th>+ / -</th>\n",
       "    </tr>\n",
       "  </thead>\n",
       "  <tbody>\n",
       "  </tbody>\n",
       "</table>\n",
       "</div>"
      ],
      "text/plain": [
       "Empty DataFrame\n",
       "Columns: [Team Name, Year, Wins, Losses, OT Losses, Win %, Goals For (GF), Goals Against (GA), + / -]\n",
       "Index: []"
      ]
     },
     "execution_count": 20,
     "metadata": {},
     "output_type": "execute_result"
    }
   ],
   "source": [
    "import pandas as pd\n",
    "df = pd.DataFrame(columns=headings)\n",
    "df"
   ]
  },
  {
   "cell_type": "code",
   "execution_count": 21,
   "metadata": {},
   "outputs": [],
   "source": [
    "column_data = soup.find_all('tr')"
   ]
  },
  {
   "cell_type": "code",
   "execution_count": 23,
   "metadata": {},
   "outputs": [
    {
     "name": "stdout",
     "output_type": "stream",
     "text": [
      "['Boston Bruins', '1990', '44', '24', '', '0.55', '299', '264', '35']\n",
      "['Buffalo Sabres', '1990', '31', '30', '', '0.388', '292', '278', '14']\n",
      "['Calgary Flames', '1990', '46', '26', '', '0.575', '344', '263', '81']\n",
      "['Chicago Blackhawks', '1990', '49', '23', '', '0.613', '284', '211', '73']\n",
      "['Detroit Red Wings', '1990', '34', '38', '', '0.425', '273', '298', '-25']\n",
      "['Edmonton Oilers', '1990', '37', '37', '', '0.463', '272', '272', '0']\n",
      "['Hartford Whalers', '1990', '31', '38', '', '0.388', '238', '276', '-38']\n",
      "['Los Angeles Kings', '1990', '46', '24', '', '0.575', '340', '254', '86']\n",
      "['Minnesota North Stars', '1990', '27', '39', '', '0.338', '256', '266', '-10']\n",
      "['Montreal Canadiens', '1990', '39', '30', '', '0.487', '273', '249', '24']\n",
      "['New Jersey Devils', '1990', '32', '33', '', '0.4', '272', '264', '8']\n",
      "['New York Islanders', '1990', '25', '45', '', '0.312', '223', '290', '-67']\n",
      "['New York Rangers', '1990', '36', '31', '', '0.45', '297', '265', '32']\n",
      "['Philadelphia Flyers', '1990', '33', '37', '', '0.412', '252', '267', '-15']\n",
      "['Pittsburgh Penguins', '1990', '41', '33', '', '0.512', '342', '305', '37']\n",
      "['Quebec Nordiques', '1990', '16', '50', '', '0.2', '236', '354', '-118']\n",
      "['St. Louis Blues', '1990', '47', '22', '', '0.588', '310', '250', '60']\n",
      "['Toronto Maple Leafs', '1990', '23', '46', '', '0.287', '241', '318', '-77']\n",
      "['Vancouver Canucks', '1990', '28', '43', '', '0.35', '243', '315', '-72']\n",
      "['Washington Capitals', '1990', '37', '36', '', '0.463', '258', '258', '0']\n",
      "['Winnipeg Jets', '1990', '26', '43', '', '0.325', '260', '288', '-28']\n",
      "['Boston Bruins', '1991', '36', '32', '', '0.45', '270', '275', '-5']\n",
      "['Buffalo Sabres', '1991', '31', '37', '', '0.388', '289', '299', '-10']\n",
      "['Calgary Flames', '1991', '31', '37', '', '0.388', '296', '305', '-9']\n",
      "['Chicago Blackhawks', '1991', '36', '29', '', '0.45', '257', '236', '21']\n"
     ]
    }
   ],
   "source": [
    "for row in column_data[1:]:\n",
    "    row_data = row.find_all('td')\n",
    "    individual_row_data = [data.text.strip() for data in row_data]\n",
    "    print(individual_row_data)"
   ]
  },
  {
   "cell_type": "code",
   "execution_count": 31,
   "metadata": {},
   "outputs": [],
   "source": [
    "for i in range(1, 25):\n",
    "    url = 'https://www.scrapethissite.com/pages/forms/?page_num={}'.format(i)\n",
    "    page = requests.get(url)\n",
    "    soup = BeautifulSoup(page.text, 'html')\n",
    "    column_data = soup.find_all('tr')\n",
    "    for row in column_data[1:]:\n",
    "        row_data = row.find_all('td')\n",
    "        individual_row_data = [data.text.strip() for data in row_data]\n",
    "        #print(individual_row_data)\n",
    "        length = len(df)\n",
    "        df.loc[length] = individual_row_data\n"
   ]
  },
  {
   "cell_type": "code",
   "execution_count": 32,
   "metadata": {},
   "outputs": [
    {
     "data": {
      "text/html": [
       "<div>\n",
       "<style scoped>\n",
       "    .dataframe tbody tr th:only-of-type {\n",
       "        vertical-align: middle;\n",
       "    }\n",
       "\n",
       "    .dataframe tbody tr th {\n",
       "        vertical-align: top;\n",
       "    }\n",
       "\n",
       "    .dataframe thead th {\n",
       "        text-align: right;\n",
       "    }\n",
       "</style>\n",
       "<table border=\"1\" class=\"dataframe\">\n",
       "  <thead>\n",
       "    <tr style=\"text-align: right;\">\n",
       "      <th></th>\n",
       "      <th>Team Name</th>\n",
       "      <th>Year</th>\n",
       "      <th>Wins</th>\n",
       "      <th>Losses</th>\n",
       "      <th>OT Losses</th>\n",
       "      <th>Win %</th>\n",
       "      <th>Goals For (GF)</th>\n",
       "      <th>Goals Against (GA)</th>\n",
       "      <th>+ / -</th>\n",
       "    </tr>\n",
       "  </thead>\n",
       "  <tbody>\n",
       "    <tr>\n",
       "      <th>0</th>\n",
       "      <td>Boston Bruins</td>\n",
       "      <td>1990</td>\n",
       "      <td>44</td>\n",
       "      <td>24</td>\n",
       "      <td></td>\n",
       "      <td>0.55</td>\n",
       "      <td>299</td>\n",
       "      <td>264</td>\n",
       "      <td>35</td>\n",
       "    </tr>\n",
       "    <tr>\n",
       "      <th>1</th>\n",
       "      <td>Buffalo Sabres</td>\n",
       "      <td>1990</td>\n",
       "      <td>31</td>\n",
       "      <td>30</td>\n",
       "      <td></td>\n",
       "      <td>0.388</td>\n",
       "      <td>292</td>\n",
       "      <td>278</td>\n",
       "      <td>14</td>\n",
       "    </tr>\n",
       "    <tr>\n",
       "      <th>2</th>\n",
       "      <td>Calgary Flames</td>\n",
       "      <td>1990</td>\n",
       "      <td>46</td>\n",
       "      <td>26</td>\n",
       "      <td></td>\n",
       "      <td>0.575</td>\n",
       "      <td>344</td>\n",
       "      <td>263</td>\n",
       "      <td>81</td>\n",
       "    </tr>\n",
       "    <tr>\n",
       "      <th>3</th>\n",
       "      <td>Chicago Blackhawks</td>\n",
       "      <td>1990</td>\n",
       "      <td>49</td>\n",
       "      <td>23</td>\n",
       "      <td></td>\n",
       "      <td>0.613</td>\n",
       "      <td>284</td>\n",
       "      <td>211</td>\n",
       "      <td>73</td>\n",
       "    </tr>\n",
       "    <tr>\n",
       "      <th>4</th>\n",
       "      <td>Detroit Red Wings</td>\n",
       "      <td>1990</td>\n",
       "      <td>34</td>\n",
       "      <td>38</td>\n",
       "      <td></td>\n",
       "      <td>0.425</td>\n",
       "      <td>273</td>\n",
       "      <td>298</td>\n",
       "      <td>-25</td>\n",
       "    </tr>\n",
       "    <tr>\n",
       "      <th>...</th>\n",
       "      <td>...</td>\n",
       "      <td>...</td>\n",
       "      <td>...</td>\n",
       "      <td>...</td>\n",
       "      <td>...</td>\n",
       "      <td>...</td>\n",
       "      <td>...</td>\n",
       "      <td>...</td>\n",
       "      <td>...</td>\n",
       "    </tr>\n",
       "    <tr>\n",
       "      <th>577</th>\n",
       "      <td>Tampa Bay Lightning</td>\n",
       "      <td>2011</td>\n",
       "      <td>38</td>\n",
       "      <td>36</td>\n",
       "      <td>8</td>\n",
       "      <td>0.463</td>\n",
       "      <td>235</td>\n",
       "      <td>281</td>\n",
       "      <td>-46</td>\n",
       "    </tr>\n",
       "    <tr>\n",
       "      <th>578</th>\n",
       "      <td>Toronto Maple Leafs</td>\n",
       "      <td>2011</td>\n",
       "      <td>35</td>\n",
       "      <td>37</td>\n",
       "      <td>10</td>\n",
       "      <td>0.427</td>\n",
       "      <td>231</td>\n",
       "      <td>264</td>\n",
       "      <td>-33</td>\n",
       "    </tr>\n",
       "    <tr>\n",
       "      <th>579</th>\n",
       "      <td>Vancouver Canucks</td>\n",
       "      <td>2011</td>\n",
       "      <td>51</td>\n",
       "      <td>22</td>\n",
       "      <td>9</td>\n",
       "      <td>0.622</td>\n",
       "      <td>249</td>\n",
       "      <td>198</td>\n",
       "      <td>51</td>\n",
       "    </tr>\n",
       "    <tr>\n",
       "      <th>580</th>\n",
       "      <td>Washington Capitals</td>\n",
       "      <td>2011</td>\n",
       "      <td>42</td>\n",
       "      <td>32</td>\n",
       "      <td>8</td>\n",
       "      <td>0.512</td>\n",
       "      <td>222</td>\n",
       "      <td>230</td>\n",
       "      <td>-8</td>\n",
       "    </tr>\n",
       "    <tr>\n",
       "      <th>581</th>\n",
       "      <td>Winnipeg Jets</td>\n",
       "      <td>2011</td>\n",
       "      <td>37</td>\n",
       "      <td>35</td>\n",
       "      <td>10</td>\n",
       "      <td>0.451</td>\n",
       "      <td>225</td>\n",
       "      <td>246</td>\n",
       "      <td>-21</td>\n",
       "    </tr>\n",
       "  </tbody>\n",
       "</table>\n",
       "<p>582 rows × 9 columns</p>\n",
       "</div>"
      ],
      "text/plain": [
       "               Team Name  Year Wins Losses OT Losses  Win % Goals For (GF)  \\\n",
       "0          Boston Bruins  1990   44     24             0.55            299   \n",
       "1         Buffalo Sabres  1990   31     30            0.388            292   \n",
       "2         Calgary Flames  1990   46     26            0.575            344   \n",
       "3     Chicago Blackhawks  1990   49     23            0.613            284   \n",
       "4      Detroit Red Wings  1990   34     38            0.425            273   \n",
       "..                   ...   ...  ...    ...       ...    ...            ...   \n",
       "577  Tampa Bay Lightning  2011   38     36         8  0.463            235   \n",
       "578  Toronto Maple Leafs  2011   35     37        10  0.427            231   \n",
       "579    Vancouver Canucks  2011   51     22         9  0.622            249   \n",
       "580  Washington Capitals  2011   42     32         8  0.512            222   \n",
       "581        Winnipeg Jets  2011   37     35        10  0.451            225   \n",
       "\n",
       "    Goals Against (GA) + / -  \n",
       "0                  264    35  \n",
       "1                  278    14  \n",
       "2                  263    81  \n",
       "3                  211    73  \n",
       "4                  298   -25  \n",
       "..                 ...   ...  \n",
       "577                281   -46  \n",
       "578                264   -33  \n",
       "579                198    51  \n",
       "580                230    -8  \n",
       "581                246   -21  \n",
       "\n",
       "[582 rows x 9 columns]"
      ]
     },
     "execution_count": 32,
     "metadata": {},
     "output_type": "execute_result"
    }
   ],
   "source": [
    "df"
   ]
  },
  {
   "cell_type": "code",
   "execution_count": 33,
   "metadata": {},
   "outputs": [],
   "source": [
    "df.to_csv('HockeyTeams.csv', index=False)"
   ]
  },
  {
   "cell_type": "code",
   "execution_count": null,
   "metadata": {},
   "outputs": [],
   "source": []
  }
 ],
 "metadata": {
  "kernelspec": {
   "display_name": "Python 3",
   "language": "python",
   "name": "python3"
  },
  "language_info": {
   "codemirror_mode": {
    "name": "ipython",
    "version": 3
   },
   "file_extension": ".py",
   "mimetype": "text/x-python",
   "name": "python",
   "nbconvert_exporter": "python",
   "pygments_lexer": "ipython3",
   "version": "3.11.1"
  }
 },
 "nbformat": 4,
 "nbformat_minor": 2
}
