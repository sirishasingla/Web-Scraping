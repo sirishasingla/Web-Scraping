{
 "cells": [
  {
   "cell_type": "code",
   "execution_count": 1,
   "metadata": {},
   "outputs": [],
   "source": [
    "import pandas as pd"
   ]
  },
  {
   "cell_type": "code",
   "execution_count": 2,
   "metadata": {},
   "outputs": [
    {
     "name": "stdout",
     "output_type": "stream",
     "text": [
      "{'text': 'the largest number whose English name does not repeat any letters', 'number': 5000, 'found': True, 'type': 'math'}\n"
     ]
    }
   ],
   "source": [
    "import requests\n",
    "\n",
    "url = \"https://numbersapi.p.rapidapi.com/5000/math\"\n",
    "\n",
    "querystring = {\"fragment\":\"true\",\"json\":\"true\"}\n",
    "\n",
    "headers = {\n",
    "\t\"X-RapidAPI-Key\": \"87fbb7f8c2msh4e011b40808ad46p16ffbdjsne53d0a77e862\",\n",
    "\t\"X-RapidAPI-Host\": \"numbersapi.p.rapidapi.com\"\n",
    "}\n",
    "\n",
    "response = requests.get(url, headers=headers, params=querystring)\n",
    "print(response.json())\n",
    "# if(response.json()['found']==True):\n",
    "#     print(response.json())\n",
    "#     ddf = pd.DataFrame()\n",
    "#     ddf['text'] = response.json()['text']\n",
    "#     ddf['number'] = '1'\n",
    "#     #print(response.json()['text','number'])\n",
    "#     print(response.json()['text'])\n",
    "# ddf"
   ]
  },
  {
   "cell_type": "code",
   "execution_count": 3,
   "metadata": {},
   "outputs": [],
   "source": [
    "import pandas as pd\n",
    "df = pd.DataFrame(columns=['number', 'text'])"
   ]
  },
  {
   "cell_type": "code",
   "execution_count": 4,
   "metadata": {},
   "outputs": [
    {
     "name": "stdout",
     "output_type": "stream",
     "text": [
      "     number                                               text\n",
      "0         1                        the multiplicative identity\n",
      "1         2  the only number x such that the sum of the rec...\n",
      "2         3  the first unique prime due to the properties o...\n",
      "3         4            the first positive non-Fibonacci number\n",
      "4         5                 also the number of Platonic solids\n",
      "..      ...                                                ...\n",
      "745     891  the number of unlabeled distributive lattices ...\n",
      "746     892  the smallest integer ratio of a 13-digit numbe...\n",
      "747     896                  not the sum of 4 non-zero squares\n",
      "748     898  a member of the Fibonacci-type sequence starti...\n",
      "749     899                         the product of twin primes\n",
      "\n",
      "[750 rows x 2 columns]\n"
     ]
    }
   ],
   "source": [
    "ddf_data = []\n",
    "for i in range(1,900):\n",
    "    url = f\"https://numbersapi.p.rapidapi.com/{i}/math\"\n",
    "    response = requests.get(url, headers=headers, params=querystring)\n",
    "    # if response.json()['found']==True:\n",
    "    #     temp_df = pd.DataFrame(response.json())[['number','text']]\n",
    "    #     df = df.append(temp_df,ignore_index=True)\n",
    "    if response.json()['found'] == True:\n",
    "        entry = {\n",
    "            'number': response.json()['number'],\n",
    "            'text': response.json()['text']            \n",
    "        }\n",
    "        ddf_data.append(entry)\n",
    "        #print(response.json()['text'])\n",
    "ddf = pd.DataFrame(ddf_data)\n",
    "print(ddf)\n",
    "ddf.to_csv('Numbers_facts.csv',index=False)\n"
   ]
  },
  {
   "cell_type": "code",
   "execution_count": 5,
   "metadata": {},
   "outputs": [
    {
     "data": {
      "text/html": [
       "<div>\n",
       "<style scoped>\n",
       "    .dataframe tbody tr th:only-of-type {\n",
       "        vertical-align: middle;\n",
       "    }\n",
       "\n",
       "    .dataframe tbody tr th {\n",
       "        vertical-align: top;\n",
       "    }\n",
       "\n",
       "    .dataframe thead th {\n",
       "        text-align: right;\n",
       "    }\n",
       "</style>\n",
       "<table border=\"1\" class=\"dataframe\">\n",
       "  <thead>\n",
       "    <tr style=\"text-align: right;\">\n",
       "      <th></th>\n",
       "      <th>number</th>\n",
       "      <th>text</th>\n",
       "    </tr>\n",
       "  </thead>\n",
       "  <tbody>\n",
       "    <tr>\n",
       "      <th>0</th>\n",
       "      <td>1</td>\n",
       "      <td>the multiplicative identity</td>\n",
       "    </tr>\n",
       "    <tr>\n",
       "      <th>1</th>\n",
       "      <td>2</td>\n",
       "      <td>the only number x such that the sum of the rec...</td>\n",
       "    </tr>\n",
       "    <tr>\n",
       "      <th>2</th>\n",
       "      <td>3</td>\n",
       "      <td>the first unique prime due to the properties o...</td>\n",
       "    </tr>\n",
       "    <tr>\n",
       "      <th>3</th>\n",
       "      <td>4</td>\n",
       "      <td>the first positive non-Fibonacci number</td>\n",
       "    </tr>\n",
       "    <tr>\n",
       "      <th>4</th>\n",
       "      <td>5</td>\n",
       "      <td>also the number of Platonic solids</td>\n",
       "    </tr>\n",
       "  </tbody>\n",
       "</table>\n",
       "</div>"
      ],
      "text/plain": [
       "   number                                               text\n",
       "0       1                        the multiplicative identity\n",
       "1       2  the only number x such that the sum of the rec...\n",
       "2       3  the first unique prime due to the properties o...\n",
       "3       4            the first positive non-Fibonacci number\n",
       "4       5                 also the number of Platonic solids"
      ]
     },
     "execution_count": 5,
     "metadata": {},
     "output_type": "execute_result"
    }
   ],
   "source": [
    "#  response = requests.get('https://api.themoviedb.org/3/movie/top_rated?api_key=8265bd1679663a7ea12ac168da84d2e8&language=en-US&page={}'.format(i))\n",
    "val = pd.read_csv('Numbers_facts.csv')\n",
    "val.head()"
   ]
  },
  {
   "cell_type": "code",
   "execution_count": null,
   "metadata": {},
   "outputs": [],
   "source": []
  }
 ],
 "metadata": {
  "kernelspec": {
   "display_name": "Python 3",
   "language": "python",
   "name": "python3"
  },
  "language_info": {
   "codemirror_mode": {
    "name": "ipython",
    "version": 3
   },
   "file_extension": ".py",
   "mimetype": "text/x-python",
   "name": "python",
   "nbconvert_exporter": "python",
   "pygments_lexer": "ipython3",
   "version": "3.11.1"
  }
 },
 "nbformat": 4,
 "nbformat_minor": 2
}
